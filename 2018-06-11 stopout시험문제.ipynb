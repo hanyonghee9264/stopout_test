{
 "cells": [
  {
   "cell_type": "code",
   "execution_count": 1,
   "metadata": {},
   "outputs": [
    {
     "name": "stdout",
     "output_type": "stream",
     "text": [
      "- 민아\n",
      "- 혜리\n",
      "- 유라\n",
      "- 소진\n"
     ]
    }
   ],
   "source": [
    "girlsday_info=''\n",
    "girlsday_members = ['민아', '혜리', '유라', '소진']\n",
    "\n",
    "for members in girlsday_members:\n",
    "    girlsday_info ='- {}'.format(members)\n",
    "    print(girlsday_info)"
   ]
  },
  {
   "cell_type": "code",
   "execution_count": 2,
   "metadata": {},
   "outputs": [
    {
     "name": "stdout",
     "output_type": "stream",
     "text": [
      "0 red\n",
      "1 yellow\n",
      "2 green\n"
     ]
    }
   ],
   "source": [
    "fruit_dict = {\n",
    "    'red': 'apple',\n",
    "    'yellow': 'banana',\n",
    "    'green': 'melon',\n",
    "}\n",
    "for a,b in enumerate(fruit_dict):\n",
    "    print(a,b)"
   ]
  },
  {
   "cell_type": "code",
   "execution_count": 3,
   "metadata": {},
   "outputs": [],
   "source": [
    "# list.copy() 메서드는 리스트를 복사하는 역할을 한다."
   ]
  },
  {
   "cell_type": "code",
   "execution_count": 4,
   "metadata": {},
   "outputs": [
    {
     "data": {
      "text/plain": [
       "[3, 7, 11, 15, 19, 23, 27]"
      ]
     },
     "execution_count": 4,
     "metadata": {},
     "output_type": "execute_result"
    }
   ],
   "source": [
    "a = list(range(1,31))\n",
    "a[2::4]"
   ]
  },
  {
   "cell_type": "code",
   "execution_count": null,
   "metadata": {},
   "outputs": [],
   "source": [
    "# 둘다 key값을 통해 value값을 얻을 수 있지만\n",
    "# 원하는 값이 없을 때, obj['key'] 는 오류가 나지만\n",
    "# obj.get('key')는 None 값을 리턴한다."
   ]
  },
  {
   "cell_type": "code",
   "execution_count": 5,
   "metadata": {},
   "outputs": [
    {
     "name": "stdout",
     "output_type": "stream",
     "text": [
      "('피카츄', '전기타입')\n",
      "('파이리', '불 타입')\n",
      "('꼬부기', '물 타입')\n",
      "('이상해씨', '풀 타입')\n",
      "[('피카츄', '전기타입'), ('파이리', '불 타입'), ('꼬부기', '물 타입'), ('이상해씨', '풀 타입')]\n"
     ]
    }
   ],
   "source": [
    "# 튜플 언패킹 : 묶여 있는 값을 풀어 놓는 것\n",
    "\n",
    "pokemon_info = [\n",
    "    ('피카츄', '전기타입'),\n",
    "    ('파이리', '불 타입'),\n",
    "    ('꼬부기', '물 타입'),\n",
    "    ('이상해씨', '풀 타입'),\n",
    "]\n",
    "\n",
    "A,B,C,D = pokemon_info\n",
    "print(A)\n",
    "print(B)\n",
    "print(C)\n",
    "print(D)\n",
    "\n",
    "print(pokemon_info)"
   ]
  },
  {
   "cell_type": "code",
   "execution_count": 6,
   "metadata": {},
   "outputs": [],
   "source": [
    "# 위치인자는 사전에 정확한 매개변수의 위치를 알고 있어야하지만\n",
    "# 키워드인자는 키워드 인자는 순서에 상관없이 인자를 매개변수에 복사할 수 있다."
   ]
  },
  {
   "cell_type": "code",
   "execution_count": 7,
   "metadata": {},
   "outputs": [],
   "source": [
    "# 1. 클래스와 인스턴스의 차이점\n",
    "# : 인스턴스가 클래스 변수에 접근하여 수정할 수 없다.\n",
    "# 2. 클래스의 생성자 함수 이름\n",
    "# : __init__\n",
    "# 3. 클래스의 생성자 함수가 호출되는 시점은?\n",
    "# : 객체가 생성되는 시점\n",
    "# 4. 인스턴스 메서드의 self 매개변수의 의미\n",
    "# : 객체의 인스턴스 그 자체를 의미"
   ]
  },
  {
   "cell_type": "code",
   "execution_count": 8,
   "metadata": {},
   "outputs": [],
   "source": [
    "# getter\n",
    "# : @property \n",
    "    \n",
    "# setter\n",
    "# : @xxxx.setter\n",
    "    \n",
    "# # 둘다 메서드명을 일치시켜야 함"
   ]
  },
  {
   "cell_type": "code",
   "execution_count": 9,
   "metadata": {},
   "outputs": [],
   "source": [
    "class User:\n",
    "    def __init__(self, name):\n",
    "        self.name = name\n",
    "\n",
    "\n",
    "class Student(User):\n",
    "    def __init__(self, name, age):\n",
    "        super().__init__(name)\n",
    "        self.age = age"
   ]
  },
  {
   "cell_type": "code",
   "execution_count": null,
   "metadata": {},
   "outputs": [],
   "source": [
    "# # 13번 문제\n",
    "\n",
    "# urls.py에 맨 처음을 보면 urlpatterns라고 나와있으며 이 안에는 urlresolver를 나타내는데\n",
    "# path에 admin/은 http://localhost:8000/admin/ 이라는 내용을 쳤을때 보여주는 것이다.\n",
    "# 따라서 우리는 http://localhost:8000/abc/라는 내용의 url을 패턴에 추가해야하며, 어디로보여줄지 경로를\n",
    "# 설정해줘야한다.\n",
    "# include를 통하여 보여줄 패키지를 선택해야한다. 예를들어 include('blog.urls')면 blog패키지에 urls.py에\n",
    "# 들어가서 urlpatterns를 만들어주어 해당 내용을 보여주면 된다."
   ]
  }
 ],
 "metadata": {
  "kernelspec": {
   "display_name": "Python 3",
   "language": "python",
   "name": "python3"
  },
  "language_info": {
   "codemirror_mode": {
    "name": "ipython",
    "version": 3
   },
   "file_extension": ".py",
   "mimetype": "text/x-python",
   "name": "python",
   "nbconvert_exporter": "python",
   "pygments_lexer": "ipython3",
   "version": "3.6.5"
  }
 },
 "nbformat": 4,
 "nbformat_minor": 2
}
